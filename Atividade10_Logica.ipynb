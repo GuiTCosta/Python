{
  "nbformat": 4,
  "nbformat_minor": 0,
  "metadata": {
    "colab": {
      "provenance": [],
      "authorship_tag": "ABX9TyMwHrUq5euPFrW7mMOA06IP",
      "include_colab_link": true
    },
    "kernelspec": {
      "name": "python3",
      "display_name": "Python 3"
    },
    "language_info": {
      "name": "python"
    }
  },
  "cells": [
    {
      "cell_type": "markdown",
      "metadata": {
        "id": "view-in-github",
        "colab_type": "text"
      },
      "source": [
        "<a href=\"https://colab.research.google.com/github/GuiTCosta/Python/blob/main/Atividade10_Logica.ipynb\" target=\"_parent\"><img src=\"https://colab.research.google.com/assets/colab-badge.svg\" alt=\"Open In Colab\"/></a>"
      ]
    },
    {
      "cell_type": "code",
      "execution_count": null,
      "metadata": {
        "colab": {
          "base_uri": "https://localhost:8080/"
        },
        "id": "i_c2asK6-v9o",
        "outputId": "8f446cfb-67e6-42b3-ae73-9fa01737c2ba"
      },
      "outputs": [
        {
          "output_type": "stream",
          "name": "stdout",
          "text": [
            "1\n",
            "2\n",
            "3\n",
            "4\n",
            "5\n",
            "6\n",
            "7\n",
            "8\n",
            "9\n",
            "10\n",
            "11\n",
            "12\n",
            "13\n",
            "14\n",
            "15\n",
            "16\n",
            "17\n",
            "18\n",
            "19\n",
            "20\n"
          ]
        }
      ],
      "source": [
        "#1-Contagem Progressiva\n",
        "\n",
        "for i in range(1, 21):\n",
        "  print(i)"
      ]
    },
    {
      "cell_type": "code",
      "source": [
        "#2. Números Pares\n",
        "\n",
        "for i in range(2,51,2):\n",
        "  print(i)"
      ],
      "metadata": {
        "colab": {
          "base_uri": "https://localhost:8080/"
        },
        "id": "iWI4GHH3_MVM",
        "outputId": "ab523460-0efc-4508-eea5-33691b251ee4"
      },
      "execution_count": null,
      "outputs": [
        {
          "output_type": "stream",
          "name": "stdout",
          "text": [
            "2\n",
            "4\n",
            "6\n",
            "8\n",
            "10\n",
            "12\n",
            "14\n",
            "16\n",
            "18\n",
            "20\n",
            "22\n",
            "24\n",
            "26\n",
            "28\n",
            "30\n",
            "32\n",
            "34\n",
            "36\n",
            "38\n",
            "40\n",
            "42\n",
            "44\n",
            "46\n",
            "48\n",
            "50\n"
          ]
        }
      ]
    },
    {
      "cell_type": "code",
      "source": [
        "#3. Tabuada\n",
        "numero = int(input(\"Entre com um numero: \"))\n",
        "\n",
        "for i in range(1, 11):\n",
        "  print(f'{i} X {numero} = {i*numero}')"
      ],
      "metadata": {
        "colab": {
          "base_uri": "https://localhost:8080/"
        },
        "id": "NmTVkvv5_ZTw",
        "outputId": "dbe3cb1b-6c35-4486-f39b-7808d25c0b50"
      },
      "execution_count": null,
      "outputs": [
        {
          "output_type": "stream",
          "name": "stdout",
          "text": [
            "Entre com um numero: 7\n",
            "1 X 7 = 7\n",
            "2 X 7 = 14\n",
            "3 X 7 = 21\n",
            "4 X 7 = 28\n",
            "5 X 7 = 35\n",
            "6 X 7 = 42\n",
            "7 X 7 = 49\n",
            "8 X 7 = 56\n",
            "9 X 7 = 63\n",
            "10 X 7 = 70\n"
          ]
        }
      ]
    },
    {
      "cell_type": "code",
      "source": [
        "#4. Soma de Números\n",
        "\n",
        "soma = 0\n",
        "\n",
        "for i in range(1,101):\n",
        "  soma += i\n",
        "print(soma)"
      ],
      "metadata": {
        "colab": {
          "base_uri": "https://localhost:8080/"
        },
        "id": "W8hR6egL_-NP",
        "outputId": "3c0e73ce-1897-40a2-bb8b-4d0eff4ba5b8"
      },
      "execution_count": null,
      "outputs": [
        {
          "output_type": "stream",
          "name": "stdout",
          "text": [
            "5050\n"
          ]
        }
      ]
    },
    {
      "cell_type": "code",
      "source": [
        "#5. Média de Valores\n",
        "\n",
        "soma = 0\n",
        "for i in range(1, 6):\n",
        "  numero = int(input('Insira um numero: '))\n",
        "  soma += numero\n",
        "media = soma/ i\n",
        "print(soma)\n",
        "print(media)"
      ],
      "metadata": {
        "colab": {
          "base_uri": "https://localhost:8080/"
        },
        "id": "p4LBdj1zAgF4",
        "outputId": "c3454269-e7ec-4af2-a890-260d400d34aa"
      },
      "execution_count": null,
      "outputs": [
        {
          "output_type": "stream",
          "name": "stdout",
          "text": [
            "Insira um numero: 5\n",
            "Insira um numero: 4\n",
            "Insira um numero: 3\n",
            "Insira um numero: 2\n",
            "Insira um numero: 1\n",
            "15\n",
            "3.0\n"
          ]
        }
      ]
    },
    {
      "cell_type": "code",
      "source": [
        "#6. Múltiplos de 3\n",
        "\n",
        "for i in range(3,31,3):\n",
        "  print(i)"
      ],
      "metadata": {
        "colab": {
          "base_uri": "https://localhost:8080/"
        },
        "id": "RV_ei0QPWcqf",
        "outputId": "ea9a562c-6856-4cf2-d4f1-d14b96db8cd4"
      },
      "execution_count": null,
      "outputs": [
        {
          "output_type": "stream",
          "name": "stdout",
          "text": [
            "3\n",
            "6\n",
            "9\n",
            "12\n",
            "15\n",
            "18\n",
            "21\n",
            "24\n",
            "27\n",
            "30\n"
          ]
        }
      ]
    },
    {
      "cell_type": "code",
      "source": [
        "#7. Contar Números Negativos\n",
        "\n",
        "lista = [-4,-3,-2,-1,0,1,2,3]\n",
        "contador = 0\n",
        "for negativos in lista:\n",
        "  if negativos < 0:\n",
        "    contador += 1\n",
        "print(f'A lista tem {contador} numeros negativos')"
      ],
      "metadata": {
        "colab": {
          "base_uri": "https://localhost:8080/"
        },
        "id": "e78qSTW2Wz9o",
        "outputId": "185b7295-8dbd-4be6-ee58-d8e861f7925a"
      },
      "execution_count": null,
      "outputs": [
        {
          "output_type": "stream",
          "name": "stdout",
          "text": [
            "A lista tem 4 numeros negativos\n"
          ]
        }
      ]
    },
    {
      "cell_type": "code",
      "source": [
        "#8. Pirâmide de Asteriscos\n",
        "\n",
        "altura = int(input('Insira um numero: '))\n",
        "\n",
        "for n in range(0, altura+1):\n",
        "\n",
        "  print('*' * n)"
      ],
      "metadata": {
        "colab": {
          "base_uri": "https://localhost:8080/"
        },
        "id": "UQ8seg-xYb4T",
        "outputId": "ec782249-9f6b-4750-a227-7e62f3868ca7"
      },
      "execution_count": null,
      "outputs": [
        {
          "output_type": "stream",
          "name": "stdout",
          "text": [
            "Insira um numero: 5\n",
            "\n",
            "*\n",
            "**\n",
            "***\n",
            "****\n",
            "*****\n"
          ]
        }
      ]
    },
    {
      "cell_type": "code",
      "source": [
        "#9. Contagem Regressiva\n",
        "\n",
        "for i in range(10, 0, -1):\n",
        "  print(i)\n",
        "print('FIM!')"
      ],
      "metadata": {
        "colab": {
          "base_uri": "https://localhost:8080/"
        },
        "id": "lMP_0sCybFv7",
        "outputId": "2b4d5ddc-9b32-4a6a-d706-fc4728c2f9c4"
      },
      "execution_count": null,
      "outputs": [
        {
          "output_type": "stream",
          "name": "stdout",
          "text": [
            "10\n",
            "9\n",
            "8\n",
            "7\n",
            "6\n",
            "5\n",
            "4\n",
            "3\n",
            "2\n",
            "1\n",
            "FIM!\n"
          ]
        }
      ]
    },
    {
      "cell_type": "code",
      "source": [
        "#10. Substituir Negativos\n",
        "\n",
        "lista = [-4,-3,-2,-1,0,1,2,3,4]\n",
        "\n",
        "for numeros in lista:\n",
        "  if numeros < 0:\n",
        "    numeros = 0\n",
        "  print(numeros)"
      ],
      "metadata": {
        "colab": {
          "base_uri": "https://localhost:8080/"
        },
        "id": "GtjY6i8zbhAc",
        "outputId": "6e438cdb-9194-486b-d9d2-17822ae636b1"
      },
      "execution_count": null,
      "outputs": [
        {
          "output_type": "stream",
          "name": "stdout",
          "text": [
            "0\n",
            "0\n",
            "0\n",
            "0\n",
            "0\n",
            "1\n",
            "2\n",
            "3\n",
            "4\n"
          ]
        }
      ]
    },
    {
      "cell_type": "code",
      "source": [
        "#11. Criar uma Sequência Numérica\n",
        "\n",
        "sequencia = int(input('Insira um  numero: '))\n",
        "\n",
        "for n in range(0, sequencia*11,sequencia):\n",
        "\n",
        "  print(n)"
      ],
      "metadata": {
        "colab": {
          "base_uri": "https://localhost:8080/"
        },
        "id": "StHQCB4VhfBe",
        "outputId": "185c972e-6e5f-428a-c984-27652841b351"
      },
      "execution_count": null,
      "outputs": [
        {
          "output_type": "stream",
          "name": "stdout",
          "text": [
            "Insira um  numero: 6\n",
            "0\n",
            "6\n",
            "12\n",
            "18\n",
            "24\n",
            "30\n",
            "36\n",
            "42\n",
            "48\n",
            "54\n",
            "60\n"
          ]
        }
      ]
    },
    {
      "cell_type": "code",
      "source": [
        "#12. Contar Vogais\n",
        "\n",
        "palavra = input('Digite uma palavra:').lower()\n",
        "\n",
        "vogais = 'aeiou'\n",
        "\n",
        "quantidadevogais = 0\n",
        "for letra in palavra:\n",
        "  if letra in vogais:\n",
        "    quantidadevogais +=1\n",
        "print(f'A palavra {palavra} tem {quantidadevogais} vogais')"
      ],
      "metadata": {
        "colab": {
          "base_uri": "https://localhost:8080/"
        },
        "id": "7J9vd5l1icdq",
        "outputId": "1feb6892-b589-490a-8225-4454c8308ee9"
      },
      "execution_count": null,
      "outputs": [
        {
          "output_type": "stream",
          "name": "stdout",
          "text": [
            "Digite uma palavra:paralelepipedo\n",
            "A palavra paralelepipedo tem 7 vogais\n"
          ]
        }
      ]
    },
    {
      "cell_type": "code",
      "source": [
        "#13. Divisíveis por 5\n",
        "\n",
        "for i in range(5,51,5):\n",
        "  print(i)"
      ],
      "metadata": {
        "colab": {
          "base_uri": "https://localhost:8080/"
        },
        "id": "6R_Es8ogeuNd",
        "outputId": "56efb44b-f090-441c-fdbc-836967c344db"
      },
      "execution_count": null,
      "outputs": [
        {
          "output_type": "stream",
          "name": "stdout",
          "text": [
            "5\n",
            "10\n",
            "15\n",
            "20\n",
            "25\n",
            "30\n",
            "35\n",
            "40\n",
            "45\n",
            "50\n"
          ]
        }
      ]
    },
    {
      "cell_type": "code",
      "source": [
        "#14. Contar Números Pares em uma Lista\n",
        "\n",
        "lista = [1, 2, 3, 4, 5, 6, 7, 8, 9, 10]\n",
        "contador = 0\n",
        "for i in lista:\n",
        "  if i % 2 == 0:\n",
        "    contador +=1\n",
        "    print(i)\n",
        "print(f' A quantidade e: {contador}')\n"
      ],
      "metadata": {
        "colab": {
          "base_uri": "https://localhost:8080/"
        },
        "id": "frM-gLx4jI5l",
        "outputId": "61f8caf4-9f75-41fa-9a68-86e5b4162e3c"
      },
      "execution_count": null,
      "outputs": [
        {
          "output_type": "stream",
          "name": "stdout",
          "text": [
            "2\n",
            "4\n",
            "6\n",
            "8\n",
            "10\n",
            " A quantidade e: 5\n"
          ]
        }
      ]
    },
    {
      "cell_type": "code",
      "source": [
        "#15. Inverter uma Palavra\n",
        "\n",
        "palavra = input('Insira uma palavra: ').lower().strip()\n",
        "invertida = ''\n",
        "for i in range(len(palavra)-1, -1, -1):\n",
        "    invertida += palavra[i]\n",
        "print(invertida)"
      ],
      "metadata": {
        "colab": {
          "base_uri": "https://localhost:8080/"
        },
        "id": "h5lP_U0Bj43v",
        "outputId": "1782ee8e-157d-40b9-da92-9e8e611a4b60"
      },
      "execution_count": null,
      "outputs": [
        {
          "output_type": "stream",
          "name": "stdout",
          "text": [
            "Insira uma palavra: pato\n",
            "otap\n"
          ]
        }
      ]
    },
    {
      "cell_type": "code",
      "source": [
        "#16. Exibir Números Ímpares\n",
        "\n",
        "for n in range(1, 21, 2):\n",
        "  print(n)"
      ],
      "metadata": {
        "colab": {
          "base_uri": "https://localhost:8080/"
        },
        "id": "uW8Cia0zoFX4",
        "outputId": "451f4e0f-395d-4fcd-c6d5-9382f85638f4"
      },
      "execution_count": null,
      "outputs": [
        {
          "output_type": "stream",
          "name": "stdout",
          "text": [
            "1\n",
            "3\n",
            "5\n",
            "7\n",
            "9\n",
            "11\n",
            "13\n",
            "15\n",
            "17\n",
            "19\n"
          ]
        }
      ]
    },
    {
      "cell_type": "code",
      "source": [
        "# 17. Criar um Triângulo Numérico\n",
        "n = int(input(\"Digite um número: \"))\n",
        "\n",
        "for i in range(1, n+1):\n",
        "    for j in range(1, i+1):\n",
        "        print(j, end = ' ')\n",
        "    print()"
      ],
      "metadata": {
        "colab": {
          "base_uri": "https://localhost:8080/"
        },
        "id": "hmwX9GrDEyoy",
        "outputId": "1af3d0de-083d-4b08-f865-f9772e0d86e6"
      },
      "execution_count": null,
      "outputs": [
        {
          "output_type": "stream",
          "name": "stdout",
          "text": [
            "Digite um número: 5\n",
            "1 \n",
            "1 2 \n",
            "1 2 3 \n",
            "1 2 3 4 \n",
            "1 2 3 4 5 \n"
          ]
        }
      ]
    },
    {
      "cell_type": "code",
      "source": [],
      "metadata": {
        "id": "ip6pQmMLHB14"
      },
      "execution_count": null,
      "outputs": []
    },
    {
      "cell_type": "code",
      "source": [
        "#18. Calcular o Fatorial\n",
        "contador = 1\n",
        "numero = int(input('Insira um numero: '))\n",
        "for i in range(numero-1, 0, -1):\n",
        "  contador *= i+1\n",
        "print(f'O fatorial de {numero} e {contador}')"
      ],
      "metadata": {
        "colab": {
          "base_uri": "https://localhost:8080/"
        },
        "id": "kThB6x5Wv45Z",
        "outputId": "fcb2daad-60b8-41e7-caa4-365d05c01d2b"
      },
      "execution_count": null,
      "outputs": [
        {
          "output_type": "stream",
          "name": "stdout",
          "text": [
            "Insira um numero: 7\n",
            "O fatorial de 7 e 5040\n"
          ]
        }
      ]
    },
    {
      "cell_type": "code",
      "source": [
        "#19. Contar uma Letra em uma Frase\n",
        "\n",
        "frase = input('Digite uma frase: ').lower()\n",
        "letra = input('Digite a letra: ').lower()\n",
        "\n",
        "quantidadeletras = 0\n",
        "for palavra in frase:\n",
        "  if letra in palavra:\n",
        "    quantidadeletras += 1\n",
        "print(f'A frase tem {quantidadeletras} {letra}')"
      ],
      "metadata": {
        "colab": {
          "base_uri": "https://localhost:8080/"
        },
        "id": "33MCNrCI7J2Q",
        "outputId": "fc524c96-a47d-4e13-cca0-d8706e644a10"
      },
      "execution_count": null,
      "outputs": [
        {
          "output_type": "stream",
          "name": "stdout",
          "text": [
            "Digite uma frase: amanha tem aula\n",
            "Digite a letra: a\n",
            "A frase tem 5 a\n"
          ]
        }
      ]
    }
  ]
}